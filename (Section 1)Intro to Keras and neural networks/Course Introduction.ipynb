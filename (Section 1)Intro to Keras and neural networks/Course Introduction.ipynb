{
 "cells": [
  {
   "cell_type": "markdown",
   "metadata": {},
   "source": [
    "## Course Description\n",
    "In this course, we will learn how to use Keras, a neural network API written in Python! Each episode focuses on a specific concept and shows how the full implementation is done in code using Keras and Python.\n",
    "\n",
    "![Keras](https://keras.io/img/logo.png)\n",
    "\n",
    "We'll be starting from the basics by learning how to organize and preprocess data, and then we'll move on to building and training artificial neural networks.\n",
    "\n",
    "Some of the networks we'll build from scratch, and others will be pre-trained state-of-the-art models that we'll fine-tune to our data. After getting comfortable with building and training networks, we'll learn how to deploy our models using both front-end and back-end deployment techniques."
   ]
  },
  {
   "cell_type": "markdown",
   "metadata": {},
   "source": [
    "## Prerequisites\n",
    "From a knowledge standpoint, many deep learning concepts will be explained and covered as we progress through this course, however, if you are brand new to deep learning, then it is recommended that you start with our [Deep Learning Fundamentals course](https://deeplizard.com/learn/video/gZmobeGL0Yg) first.\n",
    "\n",
    "![Neural Network](https://deeplizard.com/images/deep%20neural%20network%20with%204%20layers.png)\n",
    "\n",
    "The [Deep Learning Fundamentals course](https://deeplizard.com/learn/video/gZmobeGL0Yg) will teach you everything you need to know to get acquainted with all the major deep learning concepts. You can then take your newly gained knowledge from that course, and come to apply it in this Keras course.\n",
    "\n",
    "If you're eager to jump into the code, then you can choose to take both courses simultaneously.In regards to coding prerequisites, just some basic coding skills and Python experience are needed!"
   ]
  },
  {
   "cell_type": "markdown",
   "metadata": {},
   "source": [
    "**How To Install Keras**\n",
    "\n",
    "Since Keras now comes packaged with TensorFlow, we need to install TensorFlow with the command:\n",
    "\n",
    "> pip install tensorflow\n",
    "\n",
    "That’s it!"
   ]
  },
  {
   "cell_type": "markdown",
   "metadata": {},
   "source": [
    "[More details](https://deeplizard.com/learn/video/RznKVRTFkBY)"
   ]
  }
 ],
 "metadata": {
  "kernelspec": {
   "display_name": "Python 3",
   "language": "python",
   "name": "python3"
  },
  "language_info": {
   "codemirror_mode": {
    "name": "ipython",
    "version": 3
   },
   "file_extension": ".py",
   "mimetype": "text/x-python",
   "name": "python",
   "nbconvert_exporter": "python",
   "pygments_lexer": "ipython3",
   "version": "3.7.4"
  }
 },
 "nbformat": 4,
 "nbformat_minor": 2
}
